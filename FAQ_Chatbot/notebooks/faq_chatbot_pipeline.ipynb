{
 "cells": [
  {
   "cell_type": "code",
   "execution_count": 0,
   "metadata": {
    "application/vnd.databricks.v1+cell": {
     "cellMetadata": {
      "byteLimit": 2048000,
      "rowLimit": 10000
     },
     "inputWidgets": {},
     "nuid": "10abfb0e-7e7b-475d-a03a-744246873045",
     "showTitle": false,
     "tableResultSettingsMap": {},
     "title": ""
    }
   },
   "outputs": [],
   "source": [
    "# Import libraries\n",
    "import pandas as pd\n",
    "import numpy as np\n",
    "from sklearn.metrics.pairwise import cosine_similarity\n",
    "\n",
    "# Load FAQ data\n",
    "faq_df = pd.read_csv(\"/Workspace/Users/ziadashraf98765@gmail.com/Databricks_repo/FAQ_Chatbot/data/marketing_faq.csv\")\n",
    "faq_df"
   ]
  },
  {
   "cell_type": "code",
   "execution_count": 0,
   "metadata": {
    "application/vnd.databricks.v1+cell": {
     "cellMetadata": {
      "byteLimit": 2048000,
      "rowLimit": 10000
     },
     "inputWidgets": {},
     "nuid": "fa867843-0a26-48ec-b7c0-c05c23782eb2",
     "showTitle": false,
     "tableResultSettingsMap": {},
     "title": ""
    }
   },
   "outputs": [],
   "source": [
    "# %pip install sentence-transformers\n",
    "from sentence_transformers import SentenceTransformer\n",
    "\n",
    "model = SentenceTransformer('all-MiniLM-L6-v2')\n",
    "\n",
    "faq_df['embedding'] = faq_df['Answer'].apply(lambda x: model.encode(x))"
   ]
  },
  {
   "cell_type": "code",
   "execution_count": 0,
   "metadata": {
    "application/vnd.databricks.v1+cell": {
     "cellMetadata": {
      "byteLimit": 2048000,
      "rowLimit": 10000
     },
     "inputWidgets": {},
     "nuid": "17c081e6-43bc-4433-924a-407328929691",
     "showTitle": false,
     "tableResultSettingsMap": {},
     "title": ""
    }
   },
   "outputs": [],
   "source": [
    "faq_df.head()"
   ]
  },
  {
   "cell_type": "code",
   "execution_count": 0,
   "metadata": {
    "application/vnd.databricks.v1+cell": {
     "cellMetadata": {
      "byteLimit": 2048000,
      "rowLimit": 10000
     },
     "inputWidgets": {},
     "nuid": "e245137b-28db-4adc-9714-88990d9d7b66",
     "showTitle": false,
     "tableResultSettingsMap": {},
     "title": ""
    }
   },
   "outputs": [],
   "source": [
    "# ==============================\n",
    "# Function: Get Query Embedding\n",
    "# ==============================\n",
    "def get_query_embedding(query):\n",
    "    return model.encode(query)"
   ]
  },
  {
   "cell_type": "code",
   "execution_count": 0,
   "metadata": {
    "application/vnd.databricks.v1+cell": {
     "cellMetadata": {
      "byteLimit": 2048000,
      "rowLimit": 10000
     },
     "inputWidgets": {},
     "nuid": "07f377f7-b9d3-4119-bc95-b4d12c26dd6b",
     "showTitle": false,
     "tableResultSettingsMap": {},
     "title": ""
    }
   },
   "outputs": [],
   "source": [
    "# ==============================\n",
    "# 6️⃣ Function: Find Most Similar FAQ Answer\n",
    "# ==============================\n",
    "def answer_query(query, faq_df, top_k=1):\n",
    "    \"\"\"\n",
    "    Returns the top-k most relevant FAQ entries for a user query\n",
    "    \"\"\"\n",
    "    # Generate embedding for the query\n",
    "    query_emb = get_query_embedding(query)\n",
    "    \n",
    "    # Compute cosine similarity with all FAQ embeddings\n",
    "    similarities = faq_df['embedding'].apply(lambda x: cosine_similarity([query_emb], [x])[0][0])\n",
    "    \n",
    "    # Get top matching FAQ(s)\n",
    "    top_indices = similarities.sort_values(ascending=False).index[:top_k]\n",
    "    \n",
    "    return faq_df.loc[top_indices, ['Question', 'Answer']]"
   ]
  },
  {
   "cell_type": "code",
   "execution_count": 0,
   "metadata": {
    "application/vnd.databricks.v1+cell": {
     "cellMetadata": {
      "byteLimit": 2048000,
      "rowLimit": 10000
     },
     "inputWidgets": {},
     "nuid": "a4164420-714e-403c-b846-4693f7ea4bb6",
     "showTitle": false,
     "tableResultSettingsMap": {},
     "title": ""
    }
   },
   "outputs": [],
   "source": [
    "# ==============================\n",
    "# 7️⃣ Test the Chatbot\n",
    "# ==============================\n",
    "query1 = \"How do I increase social media engagement?\"\n",
    "query2 = \"What are the best marketing automation tools?\"\n",
    "\n",
    "print(\"Query:\", query1)\n",
    "print(answer_query(query1, faq_df))\n",
    "print(\"\\nQuery:\", query2)\n",
    "print(answer_query(query2, faq_df))"
   ]
  }
 ],
 "metadata": {
  "application/vnd.databricks.v1+notebook": {
   "computePreferences": null,
   "dashboards": [],
   "environmentMetadata": {
    "base_environment": "",
    "environment_version": "3"
   },
   "inputWidgetPreferences": null,
   "language": "python",
   "notebookMetadata": {
    "pythonIndentUnit": 4
   },
   "notebookName": "faq_chatbot_pipeline",
   "widgets": {}
  },
  "language_info": {
   "name": "python"
  }
 },
 "nbformat": 4,
 "nbformat_minor": 0
}
