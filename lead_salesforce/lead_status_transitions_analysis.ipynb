{
 "cells": [
  {
   "cell_type": "code",
   "execution_count": 0,
   "metadata": {
    "application/vnd.databricks.v1+cell": {
     "cellMetadata": {
      "byteLimit": 2048000,
      "rowLimit": 10000
     },
     "inputWidgets": {},
     "nuid": "9e56decc-176c-446c-a283-8919edc4948a",
     "showTitle": false,
     "tableResultSettingsMap": {},
     "title": ""
    }
   },
   "outputs": [],
   "source": [
    "from pyspark.sql import functions as F\n",
    "from pyspark.sql.window import Window\n",
    "import pandas as pd\n",
    "import matplotlib.pyplot as plt\n",
    "import seaborn as sns"
   ]
  },
  {
   "cell_type": "code",
   "execution_count": 0,
   "metadata": {
    "application/vnd.databricks.v1+cell": {
     "cellMetadata": {
      "byteLimit": 2048000,
      "rowLimit": 10000
     },
     "inputWidgets": {},
     "nuid": "add1756b-b2f1-4bc3-a0b5-92cc078da37b",
     "showTitle": false,
     "tableResultSettingsMap": {},
     "title": ""
    }
   },
   "outputs": [],
   "source": [
    "transitions = spark.read.table(\"workspace.salesforce.lead_status_transitions\").\\\n",
    "filter(\"Field = 'Status'\").\\\n",
    "select(\"OldValue\", \"NewValue\", \"total\").withColumnRenamed(\"CreatedDate\", \"created_at\")\n",
    "display(transitions)"
   ]
  },
  {
   "cell_type": "markdown",
   "metadata": {
    "application/vnd.databricks.v1+cell": {
     "cellMetadata": {},
     "inputWidgets": {},
     "nuid": "22ea00ed-dc70-4adc-88a9-5b1bd8db9b29",
     "showTitle": false,
     "tableResultSettingsMap": {},
     "title": ""
    }
   },
   "source": [
    "## Markov Chain Model - Transition Probability Matrix"
   ]
  },
  {
   "cell_type": "code",
   "execution_count": 0,
   "metadata": {
    "application/vnd.databricks.v1+cell": {
     "cellMetadata": {
      "byteLimit": 2048000,
      "rowLimit": 10000
     },
     "inputWidgets": {},
     "nuid": "b5ac1c79-0268-4b02-a9c2-bc59b31c5baa",
     "showTitle": false,
     "tableResultSettingsMap": {
      "0": {
       "dataGridStateBlob": "{\"version\":1,\"tableState\":{\"columnPinning\":{\"left\":[\"#row_number#\"],\"right\":[]},\"columnSizing\":{},\"columnVisibility\":{}},\"settings\":{\"columns\":{}},\"syncTimestamp\":1759858090391}",
       "filterBlob": null,
       "queryPlanFiltersBlob": null,
       "tableResultIndex": 0
      }
     },
     "title": ""
    }
   },
   "outputs": [],
   "source": [
    "# Count transitions from each current_status → next_status\n",
    "transition_counts = (\n",
    "    transitions\n",
    "    .groupBy(\"OldValue\", \"NewValue\")\n",
    "    .agg(F.sum(\"total\").alias(\"count\"))\n",
    ")\n",
    "\n",
    "# Total transitions from each current_status\n",
    "state_totals = (\n",
    "    transition_counts\n",
    "    .groupBy(\"OldValue\")\n",
    "    .agg(F.sum(\"count\").alias(\"total\"))\n",
    ")\n",
    "\n",
    "# Compute probabilities\n",
    "transition_probs = (\n",
    "    transition_counts\n",
    "    .join(state_totals, \"OldValue\")\n",
    "    .withColumn(\"probability\", F.col(\"count\") / F.col(\"total\"))\n",
    "    .select(\n",
    "        F.col(\"OldValue\").alias(\"from_status\"),\n",
    "        F.col(\"NewValue\").alias(\"to_status\"),\n",
    "        \"count\",\n",
    "        F.round(\"probability\", 4).alias(\"probability\")\n",
    "    )\n",
    "    .orderBy(\"from_status\", F.desc(\"probability\"))\n",
    ")\n",
    "\n",
    "display(transition_probs)"
   ]
  },
  {
   "cell_type": "markdown",
   "metadata": {
    "application/vnd.databricks.v1+cell": {
     "cellMetadata": {},
     "inputWidgets": {},
     "nuid": "d2106951-8f7d-4e70-9c1a-5f341a7fc0cf",
     "showTitle": false,
     "tableResultSettingsMap": {},
     "title": ""
    }
   },
   "source": [
    "## Visualize Transition Probability Matrix\n"
   ]
  },
  {
   "cell_type": "code",
   "execution_count": 0,
   "metadata": {
    "application/vnd.databricks.v1+cell": {
     "cellMetadata": {
      "byteLimit": 2048000,
      "rowLimit": 10000
     },
     "inputWidgets": {},
     "nuid": "9e8cb7cb-7774-4c76-aa71-749e26afcc60",
     "showTitle": false,
     "tableResultSettingsMap": {},
     "title": ""
    }
   },
   "outputs": [],
   "source": [
    "# Convert to pandas for visualization\n",
    "prob_matrix_df = transition_probs.toPandas()\n",
    "\n",
    "# Create pivot table for heatmap\n",
    "pivot = prob_matrix_df.pivot(\n",
    "    index='from_status', \n",
    "    columns='to_status', \n",
    "    values='probability'\n",
    ").fillna(0)\n",
    "\n",
    "# Create heatmap\n",
    "plt.figure(figsize=(14, 10))\n",
    "sns.heatmap(\n",
    "    pivot, \n",
    "    annot=True, \n",
    "    fmt='.3f', \n",
    "    cmap='YlOrRd',\n",
    "    cbar_kws={'label': 'Transition Probability'},\n",
    "    linewidths=0.5\n",
    ")\n",
    "plt.title('Lead Status Transition Probability Matrix (Markov Chain)', fontsize=16, pad=20)\n",
    "plt.xlabel('To Status', fontsize=12)\n",
    "plt.ylabel('From Status', fontsize=12)\n",
    "plt.xticks(rotation=45, ha='right')\n",
    "plt.yticks(rotation=0)\n",
    "plt.tight_layout()\n",
    "import os \n",
    "# Save figure to same directory as notebook/script\n",
    "output_path = os.path.join(os.getcwd(), \"lead_status_transition_heatmap.png\")\n",
    "plt.savefig(output_path, dpi=300, bbox_inches='tight')\n",
    "\n",
    "display(plt.show())"
   ]
  },
  {
   "cell_type": "markdown",
   "metadata": {
    "application/vnd.databricks.v1+cell": {
     "cellMetadata": {},
     "inputWidgets": {},
     "nuid": "5553910b-2b75-419a-ae93-0dd28b39350f",
     "showTitle": false,
     "tableResultSettingsMap": {},
     "title": ""
    }
   },
   "source": [
    "### ✅ **1. Re-engagement Success Rate**\n",
    "\n",
    "**Current:** 37.5% of re-engaged leads become *Qualified*\n",
    "**Insight:** The re-engagement campaigns are effective — they revive dormant leads.\n",
    "**Actionable Metric:**\n",
    "\n",
    "> **Goal:** Increase *Re-engagement → Qualified* rate from **37.5% → 50%** by improving email personalization and timing.\n",
    "\n",
    "---\n",
    "\n",
    "### ⚠️ **2. Contacted Drop-off Rate**\n",
    "\n",
    "**Current:** 100% of *Contacted* leads become *Unqualified*\n",
    "**Insight:** Major breakdown after initial outreach — leads are not converting after contact.\n",
    "**Actionable Metric:**\n",
    "\n",
    "> **Goal:** Reduce *Contacted → Unqualified* rate from **100% → <50%** by refining outreach scripts and follow-up cadence.\n",
    "\n",
    "---\n",
    "\n",
    "### 🔴 **3. Qualified Reversal Rate**\n",
    "\n",
    "**Current:** 100% of *Qualified* leads later marked *Unqualified*\n",
    "**Insight:** Qualification criteria are too loose — leads pass the filter but later get rejected.\n",
    "**Actionable Metric:**\n",
    "\n",
    "> **Goal:** Lower *Qualified → Unqualified* rate from **100% → <20%** by tightening qualification rules or introducing a scoring threshold."
   ]
  }
 ],
 "metadata": {
  "application/vnd.databricks.v1+notebook": {
   "computePreferences": null,
   "dashboards": [],
   "environmentMetadata": {
    "base_environment": "",
    "environment_version": "3"
   },
   "inputWidgetPreferences": null,
   "language": "python",
   "notebookMetadata": {
    "pythonIndentUnit": 4
   },
   "notebookName": "lead_status_transitions_analysis",
   "widgets": {}
  },
  "language_info": {
   "name": "python"
  }
 },
 "nbformat": 4,
 "nbformat_minor": 0
}
